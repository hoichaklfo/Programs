{
 "cells": [
  {
   "cell_type": "markdown",
   "metadata": {},
   "source": [
    "Number Guessing\n",
    "\n",
    "Goal:\n",
    "The programe will guess a number from user"
   ]
  },
  {
   "cell_type": "code",
   "execution_count": 1,
   "metadata": {},
   "outputs": [],
   "source": [
    "import math"
   ]
  },
  {
   "cell_type": "code",
   "execution_count": 2,
   "metadata": {},
   "outputs": [],
   "source": [
    "def prompt():\n",
    "    print(\"Come up with a number between 0 to 100 and I am going to guess it.\")"
   ]
  },
  {
   "cell_type": "code",
   "execution_count": 3,
   "metadata": {},
   "outputs": [],
   "source": [
    "def guess():\n",
    "    x = 0\n",
    "    y = 100\n",
    "    guess = 0\n",
    "    is_Correct = False\n",
    "    while not is_Correct:\n",
    "        ans = input(\"Is \" + str(math.ceil((y - x) / 2 + x)) + \" too low, too high or correct? \")\n",
    "        guess += 1\n",
    "        if ans.lower() == \"high\" and math.ceil((y - x) / 2 + x) == 1:\n",
    "            print(str(0) + \" is the number. \")\n",
    "            is_Correct = True\n",
    "        elif ans.lower() == \"low\":\n",
    "            x = math.ceil((y - x) / 2 + x)\n",
    "        elif ans.lower() == \"high\":\n",
    "            y = math.ceil((y - x) / 2 + x)\n",
    "        elif ans.lower() == \"correct\":\n",
    "            print(\"Took me \" + str(guess) +\" guess(es). \")\n",
    "            is_Correct = True\n",
    "        else:\n",
    "            print(\"Invalid\")"
   ]
  },
  {
   "cell_type": "code",
   "execution_count": 5,
   "metadata": {},
   "outputs": [],
   "source": [
    "def play():\n",
    "    prompt()\n",
    "    guess()"
   ]
  },
  {
   "cell_type": "code",
   "execution_count": 6,
   "metadata": {},
   "outputs": [
    {
     "name": "stdout",
     "output_type": "stream",
     "text": [
      "Come up with a number between 0 to 100 and I am going to guess it.\n",
      "Is 50 too low, too high or correct? low\n",
      "Is 75 too low, too high or correct? high\n",
      "Is 63 too low, too high or correct? LOW\n",
      "Is 69 too low, too high or correct? d\n",
      "Invalid\n",
      "Is 69 too low, too high or correct? LOW\n",
      "Is 72 too low, too high or correct? correct\n",
      "Took me 6 guess(es). \n"
     ]
    }
   ],
   "source": [
    "play()"
   ]
  }
 ],
 "metadata": {
  "kernelspec": {
   "display_name": "Python 3",
   "language": "python",
   "name": "python3"
  },
  "language_info": {
   "codemirror_mode": {
    "name": "ipython",
    "version": 3
   },
   "file_extension": ".py",
   "mimetype": "text/x-python",
   "name": "python",
   "nbconvert_exporter": "python",
   "pygments_lexer": "ipython3",
   "version": "3.7.6"
  }
 },
 "nbformat": 4,
 "nbformat_minor": 4
}
