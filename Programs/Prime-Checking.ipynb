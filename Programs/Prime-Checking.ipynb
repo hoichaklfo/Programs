{
 "cells": [
  {
   "cell_type": "markdown",
   "metadata": {},
   "source": [
    "Prime checking\n",
    "\n",
    "Goal: \n",
    "Given a prime from user, determine whether it is a prime."
   ]
  },
  {
   "cell_type": "code",
   "execution_count": 1,
   "metadata": {},
   "outputs": [],
   "source": [
    "import math"
   ]
  },
  {
   "cell_type": "code",
   "execution_count": 2,
   "metadata": {},
   "outputs": [],
   "source": [
    "def get_num():\n",
    "    return int(input('Enter a number to check whether it is a prime: '))"
   ]
  },
  {
   "cell_type": "code",
   "execution_count": 15,
   "metadata": {},
   "outputs": [],
   "source": [
    "def check_prime(num):\n",
    "    factors = [num]\n",
    "    count = 1\n",
    "    for i in range(1, math.ceil((num / 2 + 1))):\n",
    "        if num % i == 0:\n",
    "            count += 1\n",
    "            factors.append(i)\n",
    "    factors.sort()\n",
    "    if count == 2:\n",
    "        print(\"{} is a prime number. \".format(num))\n",
    "    else:\n",
    "        print(\"The number is not a prime number.\\nThe factors are:\\n{}. \".format(factors))\n",
    "    "
   ]
  },
  {
   "cell_type": "code",
   "execution_count": 16,
   "metadata": {},
   "outputs": [
    {
     "name": "stdout",
     "output_type": "stream",
     "text": [
      "Enter a number to check whether it is a prime: 99999999\n",
      "The number is not a prime number.\n",
      "The factors are:\n",
      "[1, 3, 9, 11, 33, 73, 99, 101, 137, 219, 303, 411, 657, 803, 909, 1111, 1233, 1507, 2409, 3333, 4521, 7227, 7373, 9999, 10001, 13563, 13837, 22119, 30003, 41511, 66357, 81103, 90009, 110011, 124533, 152207, 243309, 330033, 456621, 729927, 990099, 1010101, 1369863, 3030303, 9090909, 11111111, 33333333, 99999999]. \n"
     ]
    }
   ],
   "source": [
    "number = get_num()\n",
    "check_prime(number)"
   ]
  },
  {
   "cell_type": "code",
   "execution_count": 17,
   "metadata": {},
   "outputs": [
    {
     "name": "stdout",
     "output_type": "stream",
     "text": [
      "Enter a number to check whether it is a prime: 43112609\n",
      "43112609 is a prime number. \n"
     ]
    }
   ],
   "source": [
    "number = get_num()\n",
    "check_prime(number)"
   ]
  }
 ],
 "metadata": {
  "kernelspec": {
   "display_name": "Python 3",
   "language": "python",
   "name": "python3"
  },
  "language_info": {
   "codemirror_mode": {
    "name": "ipython",
    "version": 3
   },
   "file_extension": ".py",
   "mimetype": "text/x-python",
   "name": "python",
   "nbconvert_exporter": "python",
   "pygments_lexer": "ipython3",
   "version": "3.7.6"
  }
 },
 "nbformat": 4,
 "nbformat_minor": 4
}
