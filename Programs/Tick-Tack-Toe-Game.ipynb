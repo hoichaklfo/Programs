{
 "cells": [
  {
   "cell_type": "markdown",
   "metadata": {},
   "source": [
    "Tick-Tack-Toe"
   ]
  },
  {
   "cell_type": "code",
   "execution_count": 4,
   "metadata": {},
   "outputs": [],
   "source": [
    "def draw(matrix):\n",
    "    xo_matrix = []\n",
    "    xo = []\n",
    "    for row in matrix:\n",
    "        for num in row:\n",
    "            xo_matrix.append(num)\n",
    "    for element in xo_matrix:\n",
    "        if element == 0:\n",
    "            xo.append(\" \")\n",
    "        elif element == 1:\n",
    "            xo.append(\"X\")\n",
    "        elif element == 2:\n",
    "            xo.append(\"O\")\n",
    "    print(\" ---\" * 3)\n",
    "    print(\"| \" + xo[0] + \" \" + \"| \" + xo[1] + \" |\" + \" \" + xo[2] + \" |\")\n",
    "    print(\" ---\" * 3)\n",
    "    print(\"| \" + xo[3] + \" \" + \"| \" + xo[4] + \" |\" + \" \" + xo[5] + \" |\")\n",
    "    print(\" ---\" * 3)\n",
    "    print(\"| \" + xo[6] + \" \" + \"| \" + xo[7] + \" |\" + \" \" + xo[8] + \" |\")\n",
    "    print(\" ---\" * 3)\n"
   ]
  },
  {
   "cell_type": "code",
   "execution_count": 5,
   "metadata": {},
   "outputs": [],
   "source": [
    "def ask_and_draw_on(num_matrix):\n",
    "    tfmatrix = [[True, True, True], [True, True, True], [True, True, True]]\n",
    "    draw(num_matrix)\n",
    "    while True:\n",
    "        is_valid = False\n",
    "        while not is_valid:\n",
    "            coordinate1 = input(\"Player 1 can make your move: \")\n",
    "            if tfmatrix[int(coordinate1[1]) - 1][int(coordinate1[3]) - 1] == True:\n",
    "                num_matrix[int(coordinate1[1]) - 1][int(coordinate1[3]) - 1] = 1\n",
    "                checking(num_matrix)\n",
    "                draw(num_matrix)\n",
    "                tfmatrix[int(coordinate1[1]) - 1][int(coordinate1[3]) - 1] = False\n",
    "                is_valid = True\n",
    "            else:\n",
    "                print(\"Invalid.\")\n",
    "\n",
    "        if tfmatrix == [[False, False, False], [False, False, False], [False, False, False]]:\n",
    "            print(\"Game is over.\")\n",
    "            exit()\n",
    "        else:\n",
    "            is_valid = False\n",
    "            while not is_valid:\n",
    "                coordinate2 = input(\"Player 2 can make your move: \")\n",
    "                if tfmatrix[int(coordinate2[1]) - 1][int(coordinate2[3]) - 1] == True:\n",
    "                    num_matrix[int(coordinate2[1]) - 1][int(coordinate2[3]) - 1] = 2\n",
    "                    checking(num_matrix)\n",
    "                    draw(num_matrix)\n",
    "                    tfmatrix[int(coordinate2[1]) - 1][int(coordinate2[3]) - 1] = False\n",
    "                    is_valid = True\n",
    "                else:\n",
    "                    print(\"Invalid.\")"
   ]
  },
  {
   "cell_type": "code",
   "execution_count": 10,
   "metadata": {},
   "outputs": [],
   "source": [
    "def checking(num_matrix):\n",
    "    for player in range(1, 3):\n",
    "        for row in num_matrix:\n",
    "            if row[0] == row[1] == row[2] == player:\n",
    "                draw(num_matrix)\n",
    "                print(\"Player \" + str(player) + \" wins. \")\n",
    "                exit()\n",
    "        for index in range(3):\n",
    "            if num_matrix[0][index] == num_matrix[1][index] == num_matrix[2][index] == player:\n",
    "                draw(num_matrix)\n",
    "                print(\"Player \" + str(player) + \" wins. \")\n",
    "                exit()\n",
    "        if num_matrix[0][0] == num_matrix[1][1] == num_matrix[2][2] == player:\n",
    "            draw(num_matrix)\n",
    "            print(\"Player \" + str(player) + \" wins. \")\n",
    "            exit()\n",
    "        if num_matrix[0][2] == num_matrix[1][1] == num_matrix[2][0] == player:\n",
    "            draw(num_matrix)\n",
    "            print(\"Player \" + str(player) + \" wins. \")\n",
    "            exit()"
   ]
  },
  {
   "cell_type": "code",
   "execution_count": 11,
   "metadata": {},
   "outputs": [],
   "source": [
    "def play():\n",
    "    print(\"\\nYou are now playing Tick-Tack-Toe.\")\n",
    "    print(\"Note that player 1 = X, and player 2 = O.\")\n",
    "    print(\"Please enter the coordinate(x,y) for placing your moves.\")\n",
    "    print(\"Examples: (1,1) for placing at upper-leftmost, (3,3) for placing at lower-rightmost.\")\n",
    "    print(\"Player 1 will start first: \")\n",
    "    ask_and_draw_on([[0, 0, 0], [0, 0, 0], [0, 0, 0]])"
   ]
  },
  {
   "cell_type": "code",
   "execution_count": null,
   "metadata": {
    "scrolled": true
   },
   "outputs": [
    {
     "name": "stdout",
     "output_type": "stream",
     "text": [
      "\n",
      "You are now playing Tick-Tack-Toe.\n",
      "Note that player 1 = X, and player 2 = O.\n",
      "Please enter the coordinate(x,y) for placing your moves.\n",
      "Examples: (1,1) for placing at upper-leftmost, (3,3) for placing at lower-rightmost.\n",
      "Player 1 will start first: \n",
      " --- --- ---\n",
      "|   |   |   |\n",
      " --- --- ---\n",
      "|   |   |   |\n",
      " --- --- ---\n",
      "|   |   |   |\n",
      " --- --- ---\n",
      "Player 1 can make your move: (1,1)\n",
      " --- --- ---\n",
      "| X |   |   |\n",
      " --- --- ---\n",
      "|   |   |   |\n",
      " --- --- ---\n",
      "|   |   |   |\n",
      " --- --- ---\n",
      "Player 2 can make your move: (3,1)\n",
      " --- --- ---\n",
      "| X |   |   |\n",
      " --- --- ---\n",
      "|   |   |   |\n",
      " --- --- ---\n",
      "| O |   |   |\n",
      " --- --- ---\n",
      "Player 1 can make your move: (2,2)\n",
      " --- --- ---\n",
      "| X |   |   |\n",
      " --- --- ---\n",
      "|   | X |   |\n",
      " --- --- ---\n",
      "| O |   |   |\n",
      " --- --- ---\n",
      "Player 2 can make your move: (3,2)\n",
      " --- --- ---\n",
      "| X |   |   |\n",
      " --- --- ---\n",
      "|   | X |   |\n",
      " --- --- ---\n",
      "| O | O |   |\n",
      " --- --- ---\n",
      "Player 1 can make your move: (3,3)\n",
      " --- --- ---\n",
      "| X |   |   |\n",
      " --- --- ---\n",
      "|   | X |   |\n",
      " --- --- ---\n",
      "| O | O | X |\n",
      " --- --- ---\n",
      "Player 1 wins. \n",
      " --- --- ---\n",
      "| X |   |   |\n",
      " --- --- ---\n",
      "|   | X |   |\n",
      " --- --- ---\n",
      "| O | O | X |\n",
      " --- --- ---\n"
     ]
    }
   ],
   "source": [
    "play() #programme will terminate itself when a play has won in Pycharm"
   ]
  },
  {
   "cell_type": "code",
   "execution_count": null,
   "metadata": {},
   "outputs": [],
   "source": []
  }
 ],
 "metadata": {
  "kernelspec": {
   "display_name": "Python 3",
   "language": "python",
   "name": "python3"
  }
 },
 "nbformat": 4,
 "nbformat_minor": 4
}
