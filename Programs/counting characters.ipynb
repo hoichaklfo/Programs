{
 "cells": [
  {
   "cell_type": "code",
   "execution_count": 1,
   "metadata": {},
   "outputs": [],
   "source": [
    "## A function that removes non-characters and return a string of characters\n",
    "def remove_non_characters(sentence): \n",
    "    punctuations = [',','.','!',':',';',' ','’','-']\n",
    "    for pun in punctuations:\n",
    "        sentence = sentence.replace(pun, '')\n",
    "    return sentence\n",
    "\n",
    "## Note that we can get 0-9 in the punctuation list \n",
    "## if numbers should not be counted."
   ]
  },
  {
   "cell_type": "code",
   "execution_count": 2,
   "metadata": {},
   "outputs": [],
   "source": [
    "def count_chara(sentence):\n",
    "    sentence = remove_non_characters(sentence)\n",
    "    dictionary = {char:sentence.count(char) for char in sentence}\n",
    "    ## These two lines of code are not necessary if order of displaying to the use doesn't matter.\n",
    "    ordered_characters = [char for char in dictionary]\n",
    "    ordered_characters.sort()\n",
    "    ############################################################################\n",
    "    ans = [[char, dictionary[char]] for char in ordered_characters]\n",
    "    return ans"
   ]
  },
  {
   "cell_type": "code",
   "execution_count": 3,
   "metadata": {},
   "outputs": [],
   "source": [
    "given = 'The new patients were an 18-year-old female student who returned from Britain on Friday, and a 61-year-old man whose granddaughter and domestic helper was infected previously, according to Dr Chuang Shuk-kwan, head of the Centre for Health Protection’s communicable disease branch'"
   ]
  },
  {
   "cell_type": "code",
   "execution_count": 4,
   "metadata": {},
   "outputs": [
    {
     "data": {
      "text/plain": [
       "[['1', 2],\n",
       " ['6', 1],\n",
       " ['8', 1],\n",
       " ['B', 1],\n",
       " ['C', 2],\n",
       " ['D', 1],\n",
       " ['F', 1],\n",
       " ['H', 1],\n",
       " ['P', 1],\n",
       " ['S', 1],\n",
       " ['T', 1],\n",
       " ['a', 22],\n",
       " ['b', 2],\n",
       " ['c', 8],\n",
       " ['d', 14],\n",
       " ['e', 29],\n",
       " ['f', 5],\n",
       " ['g', 4],\n",
       " ['h', 11],\n",
       " ['i', 11],\n",
       " ['k', 2],\n",
       " ['l', 7],\n",
       " ['m', 6],\n",
       " ['n', 19],\n",
       " ['o', 15],\n",
       " ['p', 3],\n",
       " ['r', 18],\n",
       " ['s', 9],\n",
       " ['t', 15],\n",
       " ['u', 7],\n",
       " ['v', 1],\n",
       " ['w', 6],\n",
       " ['y', 4]]"
      ]
     },
     "execution_count": 4,
     "metadata": {},
     "output_type": "execute_result"
    }
   ],
   "source": [
    "count_chara(given)"
   ]
  },
  {
   "cell_type": "code",
   "execution_count": null,
   "metadata": {},
   "outputs": [],
   "source": []
  }
 ],
 "metadata": {
  "kernelspec": {
   "display_name": "Python 3",
   "language": "python",
   "name": "python3"
  },
  "language_info": {
   "codemirror_mode": {
    "name": "ipython",
    "version": 3
   },
   "file_extension": ".py",
   "mimetype": "text/x-python",
   "name": "python",
   "nbconvert_exporter": "python",
   "pygments_lexer": "ipython3",
   "version": "3.7.4"
  }
 },
 "nbformat": 4,
 "nbformat_minor": 2
}
