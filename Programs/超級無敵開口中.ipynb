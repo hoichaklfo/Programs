{
 "cells": [
  {
   "cell_type": "markdown",
   "metadata": {},
   "source": [
    "A number guessing game\n",
    "\n",
    "Goal: player A and player B will take turn to guess the hidden number from 1 to 100. The range of the hidden number will keep shrinking as they guess. The player who reach the hidden number loses."
   ]
  },
  {
   "cell_type": "code",
   "execution_count": 1,
   "metadata": {},
   "outputs": [],
   "source": [
    "import random"
   ]
  },
  {
   "cell_type": "code",
   "execution_count": 7,
   "metadata": {},
   "outputs": [],
   "source": [
    "def display(number):\n",
    "    return print(\"The number is \" + str(number) + \".\")\n",
    "\n",
    "def play():\n",
    "    x = 1\n",
    "    y = 100\n",
    "    num = random.randint(x, y)\n",
    "    isCorrect = False\n",
    "    while not isCorrect:\n",
    "        while not isCorrect:\n",
    "            A_guess = int(input(\"A guess: \"))\n",
    "            if A_guess == num:\n",
    "                print(\"A loses!\")\n",
    "                isCorrect = True\n",
    "                break\n",
    "            elif A_guess < num and x < A_guess < y:\n",
    "                print(\"The number is between \" + str(A_guess) + \" and \" + str(y) + \".\")\n",
    "                x = A_guess\n",
    "                break\n",
    "            elif A_guess > num and x < A_guess < y:\n",
    "                print(\"The number is between \" + str(x) + \" and \" + str(A_guess) + \".\")\n",
    "                y = A_guess\n",
    "                break\n",
    "            else:\n",
    "                print(\"Invalid.\")\n",
    "\n",
    "        while not isCorrect:\n",
    "            B_guess = int(input(\"B guess: \"))\n",
    "            if B_guess == num:\n",
    "                print(\"B loses!\")\n",
    "                isCorrect = True\n",
    "                break\n",
    "            elif B_guess < num and x < B_guess < y:\n",
    "                print(\"The number is between \" + str(B_guess) + \" and \" + str(y) + \".\")\n",
    "                x = B_guess\n",
    "                break\n",
    "            elif B_guess > num and x < B_guess < y:\n",
    "                print(\"The number is between \" + str(x) + \" and \" + str(B_guess) + \".\")\n",
    "                y = B_guess\n",
    "                break\n",
    "            else:\n",
    "                print(\"Invalid.\")\n",
    "    display(num)"
   ]
  },
  {
   "cell_type": "code",
   "execution_count": 9,
   "metadata": {},
   "outputs": [
    {
     "name": "stdout",
     "output_type": "stream",
     "text": [
      "A guess: 50\n",
      "The number is between 50 and 100.\n",
      "B guess: 75\n",
      "The number is between 50 and 75.\n",
      "A guess: 89\n",
      "Invalid.\n",
      "A guess: 60\n",
      "The number is between 50 and 60.\n",
      "B guess: 55\n",
      "The number is between 55 and 60.\n",
      "A guess: 57\n",
      "The number is between 57 and 60.\n",
      "B guess: 58\n",
      "B loses!\n",
      "The number is 58.\n"
     ]
    }
   ],
   "source": [
    "play()"
   ]
  },
  {
   "cell_type": "code",
   "execution_count": null,
   "metadata": {},
   "outputs": [],
   "source": []
  }
 ],
 "metadata": {
  "kernelspec": {
   "display_name": "Python 3",
   "language": "python",
   "name": "python3"
  },
  "language_info": {
   "codemirror_mode": {
    "name": "ipython",
    "version": 3
   },
   "file_extension": ".py",
   "mimetype": "text/x-python",
   "name": "python",
   "nbconvert_exporter": "python",
   "pygments_lexer": "ipython3",
   "version": "3.7.4"
  }
 },
 "nbformat": 4,
 "nbformat_minor": 2
}
